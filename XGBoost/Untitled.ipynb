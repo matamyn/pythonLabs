{
 "cells": [
  {
   "cell_type": "code",
   "execution_count": 41,
   "metadata": {
    "collapsed": true
   },
   "outputs": [],
   "source": [
    "import xgboost\n",
    "import numpy as np\n",
    "import csv\n",
    "from sklearn.datasets import load_breast_cancer\n",
    "from sklearn.model_selection import GridSearchCV\n",
    "from sklearn.model_selection import train_test_split\n",
    "from sklearn.utils import Bunch\n",
    "from xgboost import XGBClassifier, plot_tree\n",
    "import matplotlib.pyplot as plt"
   ]
  },
  {
   "cell_type": "code",
   "execution_count": 42,
   "metadata": {
    "collapsed": true
   },
   "outputs": [],
   "source": [
    "def load_blood_transfusion():\n",
    "    data = []\n",
    "    target = []\n",
    "    with open('data_banknote_authentication.txt', newline='') as csvfile:\n",
    "        reader = csv.reader(csvfile, delimiter=',')\n",
    "        next(reader, None)\n",
    "        for row in reader:\n",
    "            values = [float(val) for val in row]\n",
    "            data.append(values[:-1])\n",
    "            target.append(values[-1])\n",
    "\n",
    "    bunch = Bunch()\n",
    "    bunch.data = data\n",
    "    bunch.target = target\n",
    "    return bunch\n",
    "\n"
   ]
  },
  {
   "cell_type": "code",
   "execution_count": 43,
   "metadata": {
    "collapsed": true
   },
   "outputs": [],
   "source": [
    "\n",
    "def calc_hyperparams(classifier, params, x, y):\n",
    "    train_x, test_x, train_y, test_y = train_test_split(x, y, test_size=0.75, random_state=0)\n",
    "\n",
    "    scoring = {'Accuracy': 'accuracy', 'Precision': 'precision', 'AUC': 'roc_auc', 'Recall': 'recall',\n",
    "               'F1_score': 'f1_macro'}\n",
    "\n",
    "    model = GridSearchCV(classifier, params, scoring=scoring, cv=2, refit='AUC')\n",
    "    model.fit(train_x, train_y)\n",
    "\n",
    "    print(\"Best parameters set found on development set:\")\n",
    "    print(model.best_params_)\n",
    "\n",
    "    print('Accuracy: ', model.cv_results_['mean_test_Accuracy'][model.best_index_])\n",
    "    print('Precision: ', model.cv_results_['mean_test_Precision'][model.best_index_])\n",
    "    print('Recall: ', model.cv_results_['mean_test_Recall'][model.best_index_])\n",
    "    print('AUC: ', model.cv_results_['mean_test_AUC'][model.best_index_])\n",
    "    print('F1_score: ', model.cv_results_['mean_test_F1_score'][model.best_index_])\n",
    "\n",
    "    return model.best_params_\n",
    "\n"
   ]
  },
  {
   "cell_type": "code",
   "execution_count": 44,
   "metadata": {},
   "outputs": [],
   "source": [
    "dataset = load_blood_transfusion()\n",
    "x = dataset.data\n",
    "y = dataset.target\n",
    "iterations = 500"
   ]
  },
  {
   "cell_type": "code",
   "execution_count": 45,
   "metadata": {
    "scrolled": true
   },
   "outputs": [
    {
     "name": "stdout",
     "output_type": "stream",
     "text": [
      "Best parameters set found on development set:\n",
      "{'learning_rate': 1e-07, 'max_depth': 9, 'n_estimators': 9}\n",
      "Accuracy:  0.923976608187\n",
      "Precision:  0.925880361378\n",
      "Recall:  0.914099712797\n",
      "AUC:  0.922015820847\n",
      "F1_score:  0.923691416228\n"
     ]
    },
    {
     "data": {
      "text/plain": [
       "<matplotlib.axes._subplots.AxesSubplot at 0x230b0b48c88>"
      ]
     },
     "execution_count": 45,
     "metadata": {},
     "output_type": "execute_result"
    }
   ],
   "source": [
    "classifier = XGBClassifier()\n",
    "'''hyper_params = calc_hyperparams(classifier, {\n",
    "    'n_estimators': [1, 2, 3, 9, 12, 15, 30, 50, 100, 150, 300, 500, 1000],\n",
    "    'learning_rate': [0.00000000001, 0.0000000001, 0.000000001, 0.00000001, 0.0000001, 0.000001],\n",
    "    'max_depth': [3, 5, 6, 9, 12, 15, 30]\n",
    "}, np.matrix(x), np.array(y))'''\n",
    "hyper_params = calc_hyperparams(classifier, {\n",
    "    'n_estimators': [9],\n",
    "    'learning_rate': [0.0000001],\n",
    "    'max_depth': [9]\n",
    "}, np.matrix(x), np.array(y))\n",
    "\n",
    "model = XGBClassifier(**hyper_params)\n",
    "model.fit(np.matrix(x), np.array(y))\n",
    "\n",
    "with open(\"model.json\", \"w\") as f:\n",
    "    f.write(model._Booster.get_dump(dump_format='json')[0])\n",
    "plot_tree(model,rankdir='LR')"
   ]
  },
  {
   "cell_type": "code",
   "execution_count": 46,
   "metadata": {},
   "outputs": [
    {
     "data": {
      "image/png": "[encoded data removed]",
      "text/plain": [
       "<matplotlib.figure.Figure at 0x230b0c01320>"
      ]
     },
     "metadata": {},
     "output_type": "display_data"
    },
    {
     "data": {
      "text/plain": [
       "<matplotlib.figure.Figure at 0x230b0c1e2b0>"
      ]
     },
     "metadata": {},
     "output_type": "display_data"
    }
   ],
   "source": [
    "plt.figure(figsize=(10,20))\n",
    "plt.show()"
   ]
  },
  {
   "cell_type": "code",
   "execution_count": null,
   "metadata": {
    "collapsed": true
   },
   "outputs": [],
   "source": []
  }
 ],
 "metadata": {
  "kernelspec": {
   "display_name": "Python 3",
   "language": "python",
   "name": "python3"
  },
  "language_info": {
   "codemirror_mode": {
    "name": "ipython",
    "version": 3
   },
   "file_extension": ".py",
   "mimetype": "text/x-python",
   "name": "python",
   "nbconvert_exporter": "python",
   "pygments_lexer": "ipython3",
   "version": "3.6.3"
  }
 },
 "nbformat": 4,
 "nbformat_minor": 2
}
