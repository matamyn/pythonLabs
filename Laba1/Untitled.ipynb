{
 "cells": [
  {
   "cell_type": "code",
   "execution_count": 96,
   "metadata": {
    "collapsed": true
   },
   "outputs": [],
   "source": [
    "import numpy as np\n",
    "import csv\n",
    "import matplotlib.pyplot as plt\n",
    "import least_squares as ls\n",
    "import random as rd"
   ]
  },
  {
   "cell_type": "code",
   "execution_count": 107,
   "metadata": {},
   "outputs": [
    {
     "name": "stdout",
     "output_type": "stream",
     "text": [
      "[['Jul 31, 2017', '2763.24', '2889.62', '2720.61', '2875.34', '860,575,000', '45,535,800,000'], ['Jul 30, 2017', '2724.39', '2758.53', '2644.85', '2757.18', '705,943,000', '44,890,700,000'], ['Jul 29, 2017', '2807.02', '2808.76', '2692.8', '2726.45', '803,746,000', '46,246,700,000'], ['Jul 28, 2017', '2679.73', '2897.45', '2679.73', '2809.01', '1,380,100,000', '44,144,400,000'], ['Jul 27, 2017', '2538.71', '2693.32', '2529.34', '2671.78', '789,104,000', '41,816,500,000'], ['Jul 26, 2017', '2577.77', '2610.76', '2450.8', '2529.45', '937,404,000', '42,455,000,000'], ['Jul 25, 2017', '2757.5', '2768.08', '2480.96', '2576.48', '1,460,090,000', '45,410,100,000'], ['Jul 24, 2017', '2732.7', '2777.26', '2699.19', '2754.86', '866,474,000', '44,995,600,000'], ['Jul 23, 2017', '2808.1', '2832.18', '2653.94', '2730.4', '1,072,840,000', '46,231,100,000'], ['Jul 22, 2017', '2668.63', '2862.42', '2657.71', '2810.12', '1,177,130,000', '43,929,600,000']]\n",
      "[2875.34]\n",
      "[[2763.24, 2875.34]]\n",
      "1556\n"
     ]
    }
   ],
   "source": [
    "data, titles = ls.open_csv(\"bitcoin.csv\", delimiter=',')\n",
    "X=[]\n",
    "X = [[float(x[1]), float(x[4])] for x in data]\n",
    "Y = [float(x[4]) for x in data]\n",
    "print (data[:10])\n",
    "print (Y[:1])\n",
    "print (X[:1])\n",
    "print(len(X))\n"
   ]
  },
  {
   "cell_type": "code",
   "execution_count": 105,
   "metadata": {
    "collapsed": true
   },
   "outputs": [],
   "source": [
    "train_data, train_target, test_data, test_target = ls.generate_data(X, Y)"
   ]
  },
  {
   "cell_type": "code",
   "execution_count": 106,
   "metadata": {
    "collapsed": true
   },
   "outputs": [],
   "source": [
    "clf = ls.LeastSquares(constant=True, pow_2_factors=[0])\n",
    "B = clf.fit(train_data, train_target)"
   ]
  },
  {
   "cell_type": "code",
   "execution_count": 108,
   "metadata": {},
   "outputs": [
    {
     "data": {
      "image/png": "[encoded data removed]",
      "text/plain": [
       "<matplotlib.figure.Figure at 0x2516b804d68>"
      ]
     },
     "metadata": {},
     "output_type": "display_data"
    }
   ],
   "source": [
    "ls.plot_errors(test_target, clf.predict(test_data))\n"
   ]
  },
  {
   "cell_type": "code",
   "execution_count": null,
   "metadata": {
    "collapsed": true
   },
   "outputs": [],
   "source": []
  }
 ],
 "metadata": {
  "kernelspec": {
   "display_name": "Python 3",
   "language": "python",
   "name": "python3"
  },
  "language_info": {
   "codemirror_mode": {
    "name": "ipython",
    "version": 3
   },
   "file_extension": ".py",
   "mimetype": "text/x-python",
   "name": "python",
   "nbconvert_exporter": "python",
   "pygments_lexer": "ipython3",
   "version": "3.6.3"
  }
 },
 "nbformat": 4,
 "nbformat_minor": 2
}
