{
 "cells": [
  {
   "cell_type": "code",
   "execution_count": 1,
   "metadata": {
    "collapsed": true
   },
   "outputs": [],
   "source": [
    "import pandas as pd\n",
    "import matplotlib.pyplot as plt\n",
    "import numpy as np\n",
    "import random\n",
    "from sklearn import preprocessing, linear_model as lm, datasets"
   ]
  },
  {
   "cell_type": "code",
   "execution_count": 101,
   "metadata": {},
   "outputs": [
    {
     "name": "stdout",
     "output_type": "stream",
     "text": [
      "   year country  no              name position side  height  weight  \\\n",
      "0  2001     RUS  10  tverdovsky oleg         D    L     185    84.0   \n",
      "\n",
      "        birth                   club        age  cohort        bmi  \n",
      "0  1976-05-18  anaheim mighty ducks   24.952772    1976  24.543462  \n"
     ]
    }
   ],
   "source": [
    "DataFile = pd.read_csv(\"hockey_players.csv\", delimiter=',', encoding='cp1252')\n",
    "print(DataFile[:1])"
   ]
  },
  {
   "cell_type": "code",
   "execution_count": 124,
   "metadata": {},
   "outputs": [
    {
     "name": "stdout",
     "output_type": "stream",
     "text": [
      "[185.0, 188.0, 182.0, 178.0, 175.0, 193.0, 176.0, 183.0, 180.0, 178.0]\n"
     ]
    }
   ],
   "source": [
    "x1=[]\n",
    "for line in DataFile['height']:\n",
    "    x1.append(float(line))\n",
    "print(x1[:10])"
   ]
  },
  {
   "cell_type": "code",
   "execution_count": 103,
   "metadata": {},
   "outputs": [
    {
     "name": "stdout",
     "output_type": "stream",
     "text": [
      "[84.0, 86.0, 95.0, 85.0, 88.0, 93.0, 84.0, 91.0, 85.0, 86.0]\n"
     ]
    }
   ],
   "source": [
    "x2=[]\n",
    "for line in DataFile['weight']:\n",
    "    x2.append(line)\n",
    "print(x2[:10])"
   ]
  },
  {
   "cell_type": "code",
   "execution_count": 104,
   "metadata": {},
   "outputs": [
    {
     "name": "stdout",
     "output_type": "stream",
     "text": [
      "[2001, 2001, 2001, 2001, 2001, 2001, 2001, 2001, 2001, 2001]\n"
     ]
    }
   ],
   "source": [
    "x3=[]\n",
    "for line in DataFile['year']:\n",
    "    x3.append(line)\n",
    "print(x3[:10])"
   ]
  },
  {
   "cell_type": "code",
   "execution_count": 105,
   "metadata": {},
   "outputs": [
    {
     "name": "stdout",
     "output_type": "stream",
     "text": [
      "[1.0, 185.0, 84.0]\n"
     ]
    }
   ],
   "source": [
    "X = []\n",
    "for i, line in enumerate(DataFile.values):\n",
    "    row = [x1[i]]+[x2[i]]\n",
    "    X.append([1.]+row)\n",
    "    \n",
    "for line in X[:1]:\n",
    "    print(line)"
   ]
  },
  {
   "cell_type": "code",
   "execution_count": 108,
   "metadata": {},
   "outputs": [
    {
     "name": "stdout",
     "output_type": "stream",
     "text": [
      "[2001, 2001, 2001, 2001, 2001, 2001, 2001, 2001, 2001, 2001]\n"
     ]
    }
   ],
   "source": [
    "Y=x3\n",
    "# for line in DataFile['year']:\n",
    "#     Y.append(line)\n",
    "print(Y[:10])"
   ]
  },
  {
   "cell_type": "code",
   "execution_count": 110,
   "metadata": {},
   "outputs": [
    {
     "name": "stdout",
     "output_type": "stream",
     "text": [
      "[[1.0, 185.0, 84.0]]\n",
      "[[ 0.00492175  0.91052393  0.41342708]]\n"
     ]
    }
   ],
   "source": [
    "norm_X = preprocessing.normalize(X)\n",
    "print(X[:1])\n",
    "print(norm_X[:1])"
   ]
  },
  {
   "cell_type": "code",
   "execution_count": 111,
   "metadata": {},
   "outputs": [
    {
     "name": "stdout",
     "output_type": "stream",
     "text": [
      "[[ 0.00540541  0.00531915  0.00549451 ...,  0.0052356   0.00531915\n",
      "   0.00518135]]\n"
     ]
    }
   ],
   "source": [
    "mplier=[max(factor) for factor in X]\n",
    "new_X=[]\n",
    "for i, factor in enumerate(X):\n",
    "    new_X.append([x_i/mplier[i] for x_i in factor])\n",
    "new_X = np.transpose(new_X)\n",
    "print(new_X[:1])"
   ]
  },
  {
   "cell_type": "code",
   "execution_count": 112,
   "metadata": {},
   "outputs": [
    {
     "name": "stdout",
     "output_type": "stream",
     "text": [
      "[-4053.88570297  1836.41238846   863.10534364]\n"
     ]
    }
   ],
   "source": [
    "# B=np.dot(np.dot(np.linalg.inv((np.dot(np.transpose(norm_X),norm_X))),np.transpose(norm_X)),Y)\n",
    "\n",
    "norm_C = np.dot(np.transpose(norm_X),norm_X)\n",
    "norm_G = np.linalg.inv(norm_C)\n",
    "norm_B = np.dot(np.dot(norm_G,np.transpose(norm_X)),Y)\n",
    "print(norm_B)"
   ]
  },
  {
   "cell_type": "code",
   "execution_count": 113,
   "metadata": {},
   "outputs": [
    {
     "name": "stdout",
     "output_type": "stream",
     "text": [
      "[  1.99096132e+03   1.00103061e-01  -9.18715181e-03]\n"
     ]
    }
   ],
   "source": [
    "C = np.dot(np.transpose(X),X)\n",
    "G = np.linalg.inv(C)\n",
    "B = np.dot(np.dot(G,np.transpose(X)),Y)\n",
    "print(B)"
   ]
  },
  {
   "cell_type": "code",
   "execution_count": 121,
   "metadata": {},
   "outputs": [
    {
     "name": "stdout",
     "output_type": "stream",
     "text": [
      "[ 2008.70866543  2008.99060032  2008.30729758 ...,  2009.2725352\n",
      "  2008.96303886  2009.40843126]\n"
     ]
    }
   ],
   "source": [
    "lin = lambda X: np.dot(X,B)\n",
    "# X_tr=np.dot(X,B)\n",
    "x_tr=lin(X)\n",
    "print(x_tr)"
   ]
  },
  {
   "cell_type": "code",
   "execution_count": 116,
   "metadata": {},
   "outputs": [
    {
     "data": {
      "text/plain": [
       "[]"
      ]
     },
     "execution_count": 116,
     "metadata": {},
     "output_type": "execute_result"
    }
   ],
   "source": [
    "plt.figure(figsize=(7,4))\n",
    "plt.plot()\n",
    "# plt.plot(x1,x2, 'go')\n",
    "# plt.show()\n",
    "# plt.plot(Y,x1, 'go')\n",
    "# plt.show()\n",
    "# plt.plot(Y,x2, 'go')\n",
    "# plt.show()\n",
    "# plt.plot(Y,X, 'go')\n",
    "# plt.show()\n",
    "# plt.plot(Y,norm_X, 'go')\n",
    "# plt.show()"
   ]
  },
  {
   "cell_type": "code",
   "execution_count": 13,
   "metadata": {},
   "outputs": [
    {
     "data": {
      "text/plain": [
       "LinearRegression(copy_X=True, fit_intercept=True, n_jobs=1, normalize=False)"
      ]
     },
     "execution_count": 13,
     "metadata": {},
     "output_type": "execute_result"
    }
   ],
   "source": [
    "reg = lm.LinearRegression()\n",
    "reg.fit(X,Y)"
   ]
  },
  {
   "cell_type": "code",
   "execution_count": 14,
   "metadata": {},
   "outputs": [
    {
     "name": "stdout",
     "output_type": "stream",
     "text": [
      "1798.95998406 [-3661.07349711   209.92219879    88.68915569]\n"
     ]
    }
   ],
   "source": [
    "diabetes=datasets.load_diabetes()\n",
    "# regr=linear_model.LinearRegression()\n",
    "skm=lm.LinearRegression()\n",
    "skm.fit(norm_X,Y)\n",
    "print (skm.intercept_, skm.coef_)"
   ]
  }
 ],
 "metadata": {
  "kernelspec": {
   "display_name": "Python 3",
   "language": "python",
   "name": "python3"
  },
  "language_info": {
   "codemirror_mode": {
    "name": "ipython",
    "version": 3
   },
   "file_extension": ".py",
   "mimetype": "text/x-python",
   "name": "python",
   "nbconvert_exporter": "python",
   "pygments_lexer": "ipython3",
   "version": "3.6.2"
  }
 },
 "nbformat": 4,
 "nbformat_minor": 2
}
