{
 "cells": [
  {
   "cell_type": "code",
   "execution_count": 1,
   "metadata": {
    "collapsed": true
   },
   "outputs": [],
   "source": [
    "import numpy as np\n",
    "dataset=np.loadtxt('data_banknote_authentication.txt', delimiter=',', dtype=str, )"
   ]
  },
  {
   "cell_type": "code",
   "execution_count": 2,
   "metadata": {
    "collapsed": true
   },
   "outputs": [],
   "source": [
    "def parsing_dataset(dataset):\n",
    "    dataset=[[float(n) for n in e] for e in dataset]\n",
    "    X=[]\n",
    "    y=[]\n",
    "    for row in dataset:\n",
    "        X.append(row[:-1])\n",
    "        y.append(int(row[-1]))\n",
    "    X=np.array(X)\n",
    "    y=np.array(y)\n",
    "    return X,y"
   ]
  },
  {
   "cell_type": "code",
   "execution_count": 3,
   "metadata": {},
   "outputs": [
    {
     "name": "stdout",
     "output_type": "stream",
     "text": [
      "[[  1.           2.           3.           4.           5.           6.\n",
      "    7.           8.           9.          10.        ]\n",
      " [  4.06484865   5.61525383   4.5822326    6.29419981  11.13877437\n",
      "   14.69664747  12.38359602  14.62573586  20.336102    20.33311097]]\n"
     ]
    }
   ],
   "source": [
    "x = np.arange(1,11)\n",
    "y = 2 * x + np.random.randn(10)*2\n",
    "X = np.vstack((x,y))\n",
    "print (X)\n"
   ]
  },
  {
   "cell_type": "code",
   "execution_count": 4,
   "metadata": {},
   "outputs": [
    {
     "name": "stdout",
     "output_type": "stream",
     "text": [
      "(array([-4.5, -3.5, -2.5, -1.5, -0.5,  0.5,  1.5,  2.5,  3.5,  4.5]), array([-7.34220151, -5.79179633, -6.82481756, -5.11285035, -0.26827579,\n",
      "        3.28959731,  0.97654586,  3.2186857 ,  8.92905184,  8.92606081]))\n",
      "Mean vector:  (5.5, 11.407050159643635)\n"
     ]
    }
   ],
   "source": [
    "Xcentered = (X[0] - x.mean(), X[1] - y.mean())\n",
    "m = (x.mean(), y.mean())\n",
    "print (Xcentered)\n",
    "print (\"Mean vector: \", m)"
   ]
  },
  {
   "cell_type": "code",
   "execution_count": 5,
   "metadata": {},
   "outputs": [
    {
     "name": "stdout",
     "output_type": "stream",
     "text": [
      "[[  9.16666667  17.86132645]\n",
      " [ 17.86132645  37.97574793]] \n",
      "\n",
      "Variance of X:  9.16666666667\n",
      "Variance of Y:  37.9757479299\n",
      "Covariance X and Y:  17.8613264509\n"
     ]
    }
   ],
   "source": [
    "covmat = np.cov(Xcentered)\n",
    "print (covmat, \"\\n\")\n",
    "print (\"Variance of X: \", np.cov(Xcentered)[0,0])\n",
    "print (\"Variance of Y: \", np.cov(Xcentered)[1,1])\n",
    "print (\"Covariance X and Y: \", np.cov(Xcentered)[0,1])"
   ]
  },
  {
   "cell_type": "code",
   "execution_count": 36,
   "metadata": {},
   "outputs": [
    {
     "name": "stdout",
     "output_type": "stream",
     "text": [
      "[ 11.63353335   8.80860851   5.03444292   3.29181547   0.80095021\n",
      "  -0.7515594   -6.48580014  -4.54324499  -6.20547259 -11.58327333]\n",
      "Stick breaks distribution:\n",
      "[0.75, 0.25]\n",
      "Normalized values:\n",
      "[0.0075096255162172554, 0.99249037448378274]\n",
      "\n"
     ]
    },
    {
     "data": {
      "text/plain": [
       "0"
      ]
     },
     "execution_count": 36,
     "metadata": {},
     "output_type": "execute_result"
    }
   ],
   "source": [
    "_einval, vecs = np.linalg.eig(covmat)\n",
    "v = vecs[:,1]\n",
    "Xnew = np.dot(v,Xcentered)\n",
    "print (Xnew)\n",
    "calculate_components_count_stick(_einval)"
   ]
  },
  {
   "cell_type": "code",
   "execution_count": 26,
   "metadata": {
    "collapsed": true
   },
   "outputs": [],
   "source": [
    "def calculate_components_count_stick(values):\n",
    "    els_count = len(values)\n",
    "    stick_breaks = []\n",
    "    coeff = 1/len(values)\n",
    "    for i in range(1, els_count+1):\n",
    "        els_sum = 0\n",
    "        for k in range(i, els_count+1):\n",
    "            els_sum += 1/k\n",
    "        stick_breaks.append(els_sum*coeff)\n",
    "\n",
    "    values_sum = sum(values)\n",
    "    normalized_values = [value/values_sum for value in values]\n",
    "    print(\"Stick breaks distribution:\\n%s\"%(stick_breaks))\n",
    "    print(\"Normalized values:\\n%s\\n\"%(normalized_values))\n",
    "    for i in range(els_count):\n",
    "        if normalized_values[i] < stick_breaks[i]:\n",
    "            return i\n",
    "\n",
    "    return els_count"
   ]
  },
  {
   "cell_type": "code",
   "execution_count": null,
   "metadata": {
    "collapsed": true
   },
   "outputs": [],
   "source": []
  }
 ],
 "metadata": {
  "kernelspec": {
   "display_name": "Python 3",
   "language": "python",
   "name": "python3"
  },
  "language_info": {
   "codemirror_mode": {
    "name": "ipython",
    "version": 3
   },
   "file_extension": ".py",
   "mimetype": "text/x-python",
   "name": "python",
   "nbconvert_exporter": "python",
   "pygments_lexer": "ipython3",
   "version": "3.6.3"
  }
 },
 "nbformat": 4,
 "nbformat_minor": 2
}
