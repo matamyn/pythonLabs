{
 "cells": [
  {
   "cell_type": "code",
   "execution_count": 11,
   "metadata": {},
   "outputs": [
    {
     "name": "stderr",
     "output_type": "stream",
     "text": [
      "/Users/R/anaconda/lib/python3.5/site-packages/ipykernel_launcher.py:5: DeprecationWarning: \n",
      ".ix is deprecated. Please use\n",
      ".loc for label based indexing or\n",
      ".iloc for positional indexing\n",
      "\n",
      "See the documentation here:\n",
      "http://pandas.pydata.org/pandas-docs/stable/indexing.html#ix-indexer-is-deprecated\n",
      "  \"\"\"\n"
     ]
    },
    {
     "data": {
      "image/png": "[encoded data removed]",
      "text/plain": [
       "<matplotlib.figure.Figure at 0x1190aebe0>"
      ]
     },
     "metadata": {},
     "output_type": "display_data"
    }
   ],
   "source": [
    "import matplotlib.pylab as plt\n",
    "import numpy as np\n",
    "import pandas as pd\n",
    "data = pd.read_csv('/Users/R/Downloads/AAPL.csv')[::1]\n",
    "close_price = data.ix[:, 'Adj Close'].tolist()\n",
    "plt.plot(close_price)\n",
    "plt.show()\n",
    "X = np.array(close_price)"
   ]
  },
  {
   "cell_type": "code",
   "execution_count": 16,
   "metadata": {},
   "outputs": [
    {
     "data": {
      "image/png": "[encoded data removed]",
      "text/plain": [
       "<matplotlib.figure.Figure at 0x1191bb5f8>"
      ]
     },
     "metadata": {},
     "output_type": "display_data"
    },
    {
     "name": "stdout",
     "output_type": "stream",
     "text": [
      "Last 10 GErr80\n",
      "0.116009213847\n",
      "0.0102999770137\n",
      "0.0030775042106\n",
      "0.00231501810833\n",
      "0.00214272669913\n",
      "0.00199368917746\n",
      "0.00195861139463\n",
      "0.00196412199959\n",
      "0.00188339637096\n",
      "Last 10 GErr20\n",
      "0.0736967476295\n",
      "0.0307053326973\n",
      "0.0136637878982\n",
      "0.00702081206564\n",
      "0.00609597839532\n",
      "0.00665971688022\n",
      "0.00597556233818\n",
      "0.00673181785942\n",
      "0.00621400532903\n"
     ]
    }
   ],
   "source": [
    "import numpy as np\n",
    "X = preprocessing(X[:])\n",
    "x80, y80, x20, y20 = make_dataset(X,16)\n",
    "\n",
    "structure = [16, 15,  1]\n",
    "net = MLP(structure)\n",
    "net.init_net()\n",
    "times = 10\n",
    "net.study(0.5, 0.5, times, x80, y80, x20, y20)\n",
    "\n",
    "#for i in range(len(x20)):\n",
    "    #print(\"X = \", x20[i])\n",
    "    #net.set_X(x20[i])\n",
    "    #net.count()\n",
    "    #print(\"Y_pr = \", net.layer_Y[-1], \"Y = \", y20[i])\n",
    "    \n",
    "\n",
    "    \n",
    "\n"
   ]
  },
  {
   "cell_type": "code",
   "execution_count": 13,
   "metadata": {
    "collapsed": true
   },
   "outputs": [],
   "source": [
    "import numpy as np\n",
    "import random\n",
    "import math\n",
    "class MLP:\n",
    "    def __init__(self, structure):\n",
    "        self.structure = structure\n",
    "        self.layer_XW = []\n",
    "        self.layer_Y = []\n",
    "        self.layer_d = []\n",
    "        for i in range(len(structure)):\n",
    "            self.layer_Y.append(np.zeros(structure[i]))\n",
    "            self.layer_d.append(np.zeros(structure[i]))\n",
    "            if i == 0:\n",
    "                self.layer_XW.append(np.zeros((structure[i], 2, 1))) # ширина слоя, 0-х 1-w,  ширина нейрона\n",
    "            else:\n",
    "                self.layer_XW.append(np.zeros((structure[i], 2 , structure[i-1]+1)))\n",
    "    def __str__(self):\n",
    "        print(\"\\n\\nXW: \")\n",
    "        for i in range(len(self.structure)):\n",
    "            print(self.layer_XW[i])\n",
    "            print()\n",
    "        print(\"Y: \")\n",
    "        for i in range(len(self.structure)):\n",
    "            print(self.layer_Y[i])\n",
    "            print()\n",
    "        print(\"delta: \")\n",
    "        for i in range(len(self.structure)):\n",
    "            print(self.layer_d[i])\n",
    "            print()\n",
    "        return \"END.\"\n",
    "    def init_net(self):\n",
    "        for i in range(len(structure)):\n",
    "            for j in range(structure[i]):\n",
    "                if i == 0:\n",
    "                    self.layer_XW[i][j][1][0] = 1\n",
    "                if i != 0:\n",
    "                    for j_neuron in range(structure[i-1]+1):\n",
    "                        self.layer_XW[i][j][1][j_neuron] = (0.1+0.3*random.random())*pow(-1,round(10*random.random()))\n",
    "        for i in range(1, len(structure)):\n",
    "            for j_neuron in range(structure[i]):\n",
    "                self.layer_XW[i][j_neuron][0][-1] = 1\n",
    "    def set_X(self, X):\n",
    "        for j in range(structure[0]):\n",
    "            self.layer_XW[0][j][0][0] = X[j]\n",
    "    def f_act(self, X, W):\n",
    "        y = sum(X*W)\n",
    "        return 1.0/(1.0 + math.exp(-y))\n",
    "    def foot_step(self, i, j):\n",
    "        for j_x in range(structure[i-1]):\n",
    "            self.layer_XW[i][j][0][j_x] = self.layer_Y[i-1][j_x]\n",
    "    def count_neuron(self, i, j):\n",
    "        self.layer_Y[i][j] = self.f_act(self.layer_XW[i][j][0], self.layer_XW[i][j][1])\n",
    "    def count(self):\n",
    "        for j_n in range(structure[0]):\n",
    "            self.layer_Y[0][j_n] = self.layer_XW[0][j_n][0][0]\n",
    "        for i in range(1,len(structure)):\n",
    "            for j_n in range(structure[i]):\n",
    "                self.foot_step(i, j_n)\n",
    "                self.count_neuron(i, j_n)\n",
    "    def study_ex(self, n_st, alfa, X, Y):\n",
    "        net.count()\n",
    "        #last layer\n",
    "        for j_n in range(self.structure[-1]):\n",
    "            self.layer_d[-1][j_n] = -2*alfa*(Y[j_n] - self.layer_Y[-1][j_n]) * self.layer_Y[-1][j_n] *(1 - self.layer_Y[-1][j_n])\n",
    "            \n",
    "        #other layers\n",
    "        for i in range(len(self.structure)-2, 0, -1):\n",
    "            for j_d in range(self.structure[i]):\n",
    "                s = 0\n",
    "                for j_next in range(self.structure[i+1]):\n",
    "                    s=s+self.layer_XW[i+1][j_next][1][j_d]*self.layer_d[i+1][j_next]\n",
    "                self.layer_d[i][j_d] = 2*alfa*s*self.layer_Y[i][j_d]*(1-self.layer_Y[i][j_d])\n",
    "            \n",
    "        for i in range(len(self.structure)-1, 0, -1):\n",
    "            for j_n in range(self.structure[i]):\n",
    "                delta = self.layer_d[i][j_n]\n",
    "                for j_w in range((self.structure[i-1])+1):\n",
    "                    self.layer_XW[i][j_n][1][j_w] -= n_st*delta*self.layer_XW[i][j_n][0][j_w]\n",
    "                    \n",
    "        \n",
    "    def study(self, n_st, alfa, times_of_epoch, X80, Y80, X20, Y20):\n",
    "        pat_ind = np.arange(len(X80))\n",
    "        GErr80 = []\n",
    "        GErr20 = []\n",
    "        for ep in range(times_of_epoch):\n",
    "            \n",
    "            gErr20 = 0\n",
    "            for p20 in range(len(X20)):\n",
    "                net.set_X(X20[p20])\n",
    "                net.count()\n",
    "                gErr20 += sum((np.array(Y20[p20])-self.layer_Y[-1])**2)\n",
    "            GErr20.append(gErr20/len(X20)) \n",
    "            \n",
    "            gErr80 = 0\n",
    "            for p80 in range(len(X80)):\n",
    "                net.set_X(X80[p80])\n",
    "                net.count()\n",
    "                gErr80 += sum((np.array(Y80[p80])-self.layer_Y[-1])**2)\n",
    "            GErr80.append(gErr80/len(X80)) \n",
    "            \n",
    "            np.random.shuffle(pat_ind)\n",
    "            for p in pat_ind:\n",
    "                net.set_X(X80[p])\n",
    "                net.study_ex(n_st, alfa, X80[p], Y80[p])\n",
    "              \n",
    "        self.draw(GErr80[round(len(GErr80)*0):], GErr20[round(len(GErr20)*0):])\n",
    "        print(\"Last 10 GErr80\")\n",
    "        for i in range(-10,-1, 1):\n",
    "            print(GErr80[i])\n",
    "        print(\"Last 10 GErr20\")\n",
    "        for i in range(-10,-1, 1):\n",
    "            print(GErr20[i])\n",
    "        \n",
    "                  \n",
    "    def draw(self, gErr80, gErr20):\n",
    "        import matplotlib.pyplot as plt\n",
    "        x80 = np.arange(len(gErr80))\n",
    "        x20 = np.arange(len(gErr20))\n",
    "        scatter80 = plt.scatter(x80, gErr80, s = 1, label = \"MSE80\")\n",
    "        scatter20 = plt.scatter(x20, gErr20, s = 1, label = \"MSE20\")\n",
    "        plt.legend(loc='best', prop={'size': 10})\n",
    "        plt.show()\n",
    "\n",
    "def preprocessing(X):\n",
    "    M = sum(X)/len(X)\n",
    "    #X = X-M\n",
    "    X = X - min(X)\n",
    "    X = X/(max(abs(X)))\n",
    "    return(X)\n",
    "\n",
    "def make_dataset(X, learning_base):\n",
    "    x = np.zeros((len(X)-learning_base, learning_base))\n",
    "    y = np.empty((len(x),1))\n",
    "    for j in range(len(x)):\n",
    "        for i in range(learning_base):\n",
    "            x[j][i] = X[j+i]\n",
    "        y[j] = X[learning_base+j]\n",
    "    pat_ind = np.arange(len(x))\n",
    "    np.random.shuffle(pat_ind)\n",
    "    #for j in range(len(x)):\n",
    "        #x[j], x[pat_ind[j]] = x[pat_ind[j]], x[j]\n",
    "        #y[j], y[pat_ind[j]] = y[pat_ind[j]], y[j] \n",
    "    return x[:round(len(x)*0.8)], y[:round(len(y)*0.8)], x[round(len(x)*0.8):], y[round(len(y)*0.8):]              "
   ]
  },
  {
   "cell_type": "code",
   "execution_count": 17,
   "metadata": {},
   "outputs": [
    {
     "data": {
      "image/png": "[encoded data removed]",
      "text/plain": [
       "<matplotlib.figure.Figure at 0x110ac7470>"
      ]
     },
     "metadata": {},
     "output_type": "display_data"
    }
   ],
   "source": [
    "yp = []\n",
    "yp80 = []\n",
    "for i in range(len(x20)):\n",
    "    net.set_X(x20[i])\n",
    "    net.count()\n",
    "    yp.append(net.layer_Y[-1][0])\n",
    "    \n",
    "for i in range(len(x80)):\n",
    "    net.set_X(x80[i])\n",
    "    net.count()\n",
    "    yp80.append(net.layer_Y[-1][0])\n",
    "\n",
    "plt.plot(np.arange(len(yp))+len(y80), yp)\n",
    "plt.plot(np.arange(len(yp))+len(y80), y20)\n",
    "plt.plot(np.arange(len(yp80)), yp80)\n",
    "plt.plot(np.arange(len(yp80)), y80)\n",
    "plt.show()"
   ]
  },
  {
   "cell_type": "code",
   "execution_count": null,
   "metadata": {
    "collapsed": true
   },
   "outputs": [],
   "source": []
  },
  {
   "cell_type": "code",
   "execution_count": null,
   "metadata": {
    "collapsed": true
   },
   "outputs": [],
   "source": []
  }
 ],
 "metadata": {
  "kernelspec": {
   "display_name": "Python 3",
   "language": "python",
   "name": "python3"
  },
  "language_info": {
   "codemirror_mode": {
    "name": "ipython",
    "version": 3
   },
   "file_extension": ".py",
   "mimetype": "text/x-python",
   "name": "python",
   "nbconvert_exporter": "python",
   "pygments_lexer": "ipython3",
   "version": "3.6.3"
  }
 },
 "nbformat": 4,
 "nbformat_minor": 2
}
